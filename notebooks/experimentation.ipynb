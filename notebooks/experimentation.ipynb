{
 "cells": [
  {
   "attachments": {},
   "cell_type": "markdown",
   "metadata": {},
   "source": [
    "Libraries"
   ]
  },
  {
   "cell_type": "code",
   "execution_count": 2,
   "metadata": {},
   "outputs": [],
   "source": [
    "import pandas as pd\n",
    "import numpy as np\n",
    "import matplotlib.pyplot as plt\n",
    "import seaborn as sns\n",
    "import warnings\n",
    "warnings.simplefilter(\"ignore\", UserWarning)"
   ]
  },
  {
   "attachments": {},
   "cell_type": "markdown",
   "metadata": {},
   "source": [
    "Ingestion"
   ]
  },
  {
   "cell_type": "code",
   "execution_count": 3,
   "metadata": {},
   "outputs": [
    {
     "data": {
      "text/html": [
       "<div>\n",
       "<style scoped>\n",
       "    .dataframe tbody tr th:only-of-type {\n",
       "        vertical-align: middle;\n",
       "    }\n",
       "\n",
       "    .dataframe tbody tr th {\n",
       "        vertical-align: top;\n",
       "    }\n",
       "\n",
       "    .dataframe thead th {\n",
       "        text-align: right;\n",
       "    }\n",
       "</style>\n",
       "<table border=\"1\" class=\"dataframe\">\n",
       "  <thead>\n",
       "    <tr style=\"text-align: right;\">\n",
       "      <th></th>\n",
       "      <th>Unnamed: 0</th>\n",
       "      <th>customerid</th>\n",
       "      <th>gender</th>\n",
       "      <th>seniorcitizen</th>\n",
       "      <th>partner</th>\n",
       "      <th>dependents</th>\n",
       "      <th>tenure</th>\n",
       "      <th>phoneservice</th>\n",
       "      <th>multiplelines</th>\n",
       "      <th>internetservice</th>\n",
       "      <th>...</th>\n",
       "      <th>deviceprotection</th>\n",
       "      <th>techsupport</th>\n",
       "      <th>streamingtv</th>\n",
       "      <th>streamingmovies</th>\n",
       "      <th>contract</th>\n",
       "      <th>paperlessbilling</th>\n",
       "      <th>paymentmethod</th>\n",
       "      <th>monthlycharges</th>\n",
       "      <th>totalcharges</th>\n",
       "      <th>churn</th>\n",
       "    </tr>\n",
       "  </thead>\n",
       "  <tbody>\n",
       "    <tr>\n",
       "      <th>0</th>\n",
       "      <td>0</td>\n",
       "      <td>7590-vhveg</td>\n",
       "      <td>female</td>\n",
       "      <td>0</td>\n",
       "      <td>yes</td>\n",
       "      <td>no</td>\n",
       "      <td>1</td>\n",
       "      <td>no</td>\n",
       "      <td>no_phone_service</td>\n",
       "      <td>dsl</td>\n",
       "      <td>...</td>\n",
       "      <td>no</td>\n",
       "      <td>no</td>\n",
       "      <td>no</td>\n",
       "      <td>no</td>\n",
       "      <td>month-to-month</td>\n",
       "      <td>yes</td>\n",
       "      <td>electronic_check</td>\n",
       "      <td>29.85</td>\n",
       "      <td>29.85</td>\n",
       "      <td>0</td>\n",
       "    </tr>\n",
       "    <tr>\n",
       "      <th>1</th>\n",
       "      <td>1</td>\n",
       "      <td>5575-gnvde</td>\n",
       "      <td>male</td>\n",
       "      <td>0</td>\n",
       "      <td>no</td>\n",
       "      <td>no</td>\n",
       "      <td>34</td>\n",
       "      <td>yes</td>\n",
       "      <td>no</td>\n",
       "      <td>dsl</td>\n",
       "      <td>...</td>\n",
       "      <td>yes</td>\n",
       "      <td>no</td>\n",
       "      <td>no</td>\n",
       "      <td>no</td>\n",
       "      <td>one_year</td>\n",
       "      <td>no</td>\n",
       "      <td>mailed_check</td>\n",
       "      <td>56.95</td>\n",
       "      <td>1889.50</td>\n",
       "      <td>0</td>\n",
       "    </tr>\n",
       "    <tr>\n",
       "      <th>2</th>\n",
       "      <td>2</td>\n",
       "      <td>3668-qpybk</td>\n",
       "      <td>male</td>\n",
       "      <td>0</td>\n",
       "      <td>no</td>\n",
       "      <td>no</td>\n",
       "      <td>2</td>\n",
       "      <td>yes</td>\n",
       "      <td>no</td>\n",
       "      <td>dsl</td>\n",
       "      <td>...</td>\n",
       "      <td>no</td>\n",
       "      <td>no</td>\n",
       "      <td>no</td>\n",
       "      <td>no</td>\n",
       "      <td>month-to-month</td>\n",
       "      <td>yes</td>\n",
       "      <td>mailed_check</td>\n",
       "      <td>53.85</td>\n",
       "      <td>108.15</td>\n",
       "      <td>1</td>\n",
       "    </tr>\n",
       "    <tr>\n",
       "      <th>3</th>\n",
       "      <td>3</td>\n",
       "      <td>7795-cfocw</td>\n",
       "      <td>male</td>\n",
       "      <td>0</td>\n",
       "      <td>no</td>\n",
       "      <td>no</td>\n",
       "      <td>45</td>\n",
       "      <td>no</td>\n",
       "      <td>no_phone_service</td>\n",
       "      <td>dsl</td>\n",
       "      <td>...</td>\n",
       "      <td>yes</td>\n",
       "      <td>yes</td>\n",
       "      <td>no</td>\n",
       "      <td>no</td>\n",
       "      <td>one_year</td>\n",
       "      <td>no</td>\n",
       "      <td>bank_transfer_(automatic)</td>\n",
       "      <td>42.30</td>\n",
       "      <td>1840.75</td>\n",
       "      <td>0</td>\n",
       "    </tr>\n",
       "    <tr>\n",
       "      <th>4</th>\n",
       "      <td>4</td>\n",
       "      <td>9237-hqitu</td>\n",
       "      <td>female</td>\n",
       "      <td>0</td>\n",
       "      <td>no</td>\n",
       "      <td>no</td>\n",
       "      <td>2</td>\n",
       "      <td>yes</td>\n",
       "      <td>no</td>\n",
       "      <td>fiber_optic</td>\n",
       "      <td>...</td>\n",
       "      <td>no</td>\n",
       "      <td>no</td>\n",
       "      <td>no</td>\n",
       "      <td>no</td>\n",
       "      <td>month-to-month</td>\n",
       "      <td>yes</td>\n",
       "      <td>electronic_check</td>\n",
       "      <td>70.70</td>\n",
       "      <td>151.65</td>\n",
       "      <td>1</td>\n",
       "    </tr>\n",
       "  </tbody>\n",
       "</table>\n",
       "<p>5 rows × 22 columns</p>\n",
       "</div>"
      ],
      "text/plain": [
       "   Unnamed: 0  customerid  gender  seniorcitizen partner dependents  tenure  \\\n",
       "0           0  7590-vhveg  female              0     yes         no       1   \n",
       "1           1  5575-gnvde    male              0      no         no      34   \n",
       "2           2  3668-qpybk    male              0      no         no       2   \n",
       "3           3  7795-cfocw    male              0      no         no      45   \n",
       "4           4  9237-hqitu  female              0      no         no       2   \n",
       "\n",
       "  phoneservice     multiplelines internetservice  ... deviceprotection  \\\n",
       "0           no  no_phone_service             dsl  ...               no   \n",
       "1          yes                no             dsl  ...              yes   \n",
       "2          yes                no             dsl  ...               no   \n",
       "3           no  no_phone_service             dsl  ...              yes   \n",
       "4          yes                no     fiber_optic  ...               no   \n",
       "\n",
       "  techsupport streamingtv streamingmovies        contract paperlessbilling  \\\n",
       "0          no          no              no  month-to-month              yes   \n",
       "1          no          no              no        one_year               no   \n",
       "2          no          no              no  month-to-month              yes   \n",
       "3         yes          no              no        one_year               no   \n",
       "4          no          no              no  month-to-month              yes   \n",
       "\n",
       "               paymentmethod monthlycharges totalcharges  churn  \n",
       "0           electronic_check          29.85        29.85      0  \n",
       "1               mailed_check          56.95      1889.50      0  \n",
       "2               mailed_check          53.85       108.15      1  \n",
       "3  bank_transfer_(automatic)          42.30      1840.75      0  \n",
       "4           electronic_check          70.70       151.65      1  \n",
       "\n",
       "[5 rows x 22 columns]"
      ]
     },
     "execution_count": 3,
     "metadata": {},
     "output_type": "execute_result"
    }
   ],
   "source": [
    "path = r'../data/processed/cleaned_data.csv'\n",
    "df_telco = pd.read_csv(path)\n",
    "df = df_telco.copy()\n",
    "df.head()"
   ]
  },
  {
   "attachments": {},
   "cell_type": "markdown",
   "metadata": {},
   "source": [
    "Experimentation"
   ]
  },
  {
   "attachments": {},
   "cell_type": "markdown",
   "metadata": {},
   "source": [
    "Train Test Split"
   ]
  },
  {
   "cell_type": "code",
   "execution_count": 4,
   "metadata": {},
   "outputs": [],
   "source": [
    "from sklearn.model_selection import train_test_split\n",
    "df_trainfull, df_test = train_test_split(df, test_size = 0.2, random_state=1)\n",
    "df_train, df_val = train_test_split(df_trainfull, test_size=0.33, random_state=11)\n",
    "\n",
    "X_train, X_test, X_val = df_train.iloc[:,1:-1] , df_test.iloc[:,1:-1] , df_val.iloc[:,1:-1]\n",
    "y_train, y_test, y_val = df_train.iloc[:,-1] , df_test.iloc[:,-1] , df_val.iloc[:,-1]"
   ]
  },
  {
   "attachments": {},
   "cell_type": "markdown",
   "metadata": {},
   "source": [
    "EDA"
   ]
  },
  {
   "cell_type": "code",
   "execution_count": 5,
   "metadata": {},
   "outputs": [],
   "source": [
    "categorical_features = ['gender', 'seniorcitizen', 'partner', 'dependents', #'customerid',\n",
    "                        'phoneservice', 'multiplelines', 'internetservice', #'tenure',\n",
    "                        'onlinesecurity', 'onlinebackup', 'deviceprotection', \n",
    "                        'techsupport', 'streamingtv', 'streamingmovies', \n",
    "                        'contract', 'paperlessbilling', 'paymentmethod', \n",
    "                        #'monthlycharges', 'totalcharges', \n",
    "                        # 'churn'\n",
    "                        ]\n",
    "                    \n",
    "numerical_features = ['tenure', 'monthlycharges', 'totalcharges']"
   ]
  },
  {
   "attachments": {},
   "cell_type": "markdown",
   "metadata": {},
   "source": [
    "Feature Engineering"
   ]
  },
  {
   "cell_type": "code",
   "execution_count": 6,
   "metadata": {},
   "outputs": [],
   "source": [
    "train_dict = df_train[categorical_features + numerical_features].to_dict(orient='records')\n",
    "from sklearn.feature_extraction import DictVectorizer\n",
    "dv= DictVectorizer(sparse=False)\n",
    "dv.fit(train_dict)\n",
    "X_train = dv.transform(train_dict)\n",
    "\n",
    "test_dict = df_test[categorical_features + numerical_features].to_dict(orient='records')\n",
    "val_dict = df_val[categorical_features + numerical_features].to_dict(orient='records')\n",
    "X_test = dv.transform(test_dict)\n",
    "X_val = dv.transform(val_dict)"
   ]
  },
  {
   "attachments": {},
   "cell_type": "markdown",
   "metadata": {},
   "source": [
    "Classification"
   ]
  },
  {
   "cell_type": "code",
   "execution_count": 7,
   "metadata": {},
   "outputs": [
    {
     "name": "stdout",
     "output_type": "stream",
     "text": [
      "Model Accuracy Training Set   : 0.80\n",
      "Model Accuracy Validation Set : 0.80\n",
      "Model Accuracy Testing Set    : 0.81\n"
     ]
    }
   ],
   "source": [
    "from sklearn.linear_model import LogisticRegression\n",
    "model = LogisticRegression(solver='liblinear', random_state=1)\n",
    "clf_log = model.fit(X_train, y_train)\n",
    "\n",
    "def getscore(X,y, cutoff):\n",
    "    prob  = clf_log.predict_proba(X)[:,1]\n",
    "    pred  = [1* (x >= cutoff) for x in prob]\n",
    "    score = (pred == y).mean()\n",
    "    return prob, pred, score\n",
    "\n",
    "print(\"Model Accuracy Training Set   : {:.2f}\".format( getscore(X_train, y_train, 0.5)[2] ))\n",
    "print(\"Model Accuracy Validation Set : {:.2f}\".format( getscore(X_val, y_val, 0.5)[2] ))\n",
    "print(\"Model Accuracy Testing Set    : {:.2f}\".format( getscore(X_test, y_test, 0.5)[2] ))"
   ]
  },
  {
   "attachments": {},
   "cell_type": "markdown",
   "metadata": {},
   "source": [
    "Model Interpretation"
   ]
  },
  {
   "cell_type": "code",
   "execution_count": 8,
   "metadata": {},
   "outputs": [
    {
     "data": {
      "text/html": [
       "<div>\n",
       "<style scoped>\n",
       "    .dataframe tbody tr th:only-of-type {\n",
       "        vertical-align: middle;\n",
       "    }\n",
       "\n",
       "    .dataframe tbody tr th {\n",
       "        vertical-align: top;\n",
       "    }\n",
       "\n",
       "    .dataframe thead th {\n",
       "        text-align: right;\n",
       "    }\n",
       "</style>\n",
       "<table border=\"1\" class=\"dataframe\">\n",
       "  <thead>\n",
       "    <tr style=\"text-align: right;\">\n",
       "      <th></th>\n",
       "      <th>FEATURES</th>\n",
       "      <th>COEFFICIENTS</th>\n",
       "    </tr>\n",
       "  </thead>\n",
       "  <tbody>\n",
       "    <tr>\n",
       "      <th>0</th>\n",
       "      <td>contract=month-to-month</td>\n",
       "      <td>0.563</td>\n",
       "    </tr>\n",
       "    <tr>\n",
       "      <th>11</th>\n",
       "      <td>internetservice=fiber_optic</td>\n",
       "      <td>0.317</td>\n",
       "    </tr>\n",
       "    <tr>\n",
       "      <th>33</th>\n",
       "      <td>seniorcitizen</td>\n",
       "      <td>0.297</td>\n",
       "    </tr>\n",
       "    <tr>\n",
       "      <th>20</th>\n",
       "      <td>onlinesecurity=no</td>\n",
       "      <td>0.258</td>\n",
       "    </tr>\n",
       "    <tr>\n",
       "      <th>40</th>\n",
       "      <td>techsupport=no</td>\n",
       "      <td>0.178</td>\n",
       "    </tr>\n",
       "    <tr>\n",
       "      <th>29</th>\n",
       "      <td>paymentmethod=electronic_check</td>\n",
       "      <td>0.175</td>\n",
       "    </tr>\n",
       "    <tr>\n",
       "      <th>17</th>\n",
       "      <td>onlinebackup=no</td>\n",
       "      <td>0.136</td>\n",
       "    </tr>\n",
       "    <tr>\n",
       "      <th>15</th>\n",
       "      <td>multiplelines=no_phone_service</td>\n",
       "      <td>0.127</td>\n",
       "    </tr>\n",
       "    <tr>\n",
       "      <th>31</th>\n",
       "      <td>phoneservice=no</td>\n",
       "      <td>0.127</td>\n",
       "    </tr>\n",
       "    <tr>\n",
       "      <th>5</th>\n",
       "      <td>deviceprotection=no</td>\n",
       "      <td>0.100</td>\n",
       "    </tr>\n",
       "    <tr>\n",
       "      <th>39</th>\n",
       "      <td>streamingtv=yes</td>\n",
       "      <td>0.093</td>\n",
       "    </tr>\n",
       "    <tr>\n",
       "      <th>24</th>\n",
       "      <td>paperlessbilling=yes</td>\n",
       "      <td>0.091</td>\n",
       "    </tr>\n",
       "    <tr>\n",
       "      <th>36</th>\n",
       "      <td>streamingmovies=yes</td>\n",
       "      <td>0.079</td>\n",
       "    </tr>\n",
       "    <tr>\n",
       "      <th>13</th>\n",
       "      <td>monthlycharges</td>\n",
       "      <td>0.001</td>\n",
       "    </tr>\n",
       "    <tr>\n",
       "      <th>44</th>\n",
       "      <td>totalcharges</td>\n",
       "      <td>0.000</td>\n",
       "    </tr>\n",
       "    <tr>\n",
       "      <th>27</th>\n",
       "      <td>paymentmethod=bank_transfer_(automatic)</td>\n",
       "      <td>-0.027</td>\n",
       "    </tr>\n",
       "    <tr>\n",
       "      <th>8</th>\n",
       "      <td>gender=female</td>\n",
       "      <td>-0.027</td>\n",
       "    </tr>\n",
       "    <tr>\n",
       "      <th>3</th>\n",
       "      <td>dependents=no</td>\n",
       "      <td>-0.030</td>\n",
       "    </tr>\n",
       "    <tr>\n",
       "      <th>25</th>\n",
       "      <td>partner=no</td>\n",
       "      <td>-0.048</td>\n",
       "    </tr>\n",
       "    <tr>\n",
       "      <th>43</th>\n",
       "      <td>tenure</td>\n",
       "      <td>-0.069</td>\n",
       "    </tr>\n",
       "    <tr>\n",
       "      <th>26</th>\n",
       "      <td>partner=yes</td>\n",
       "      <td>-0.074</td>\n",
       "    </tr>\n",
       "    <tr>\n",
       "      <th>16</th>\n",
       "      <td>multiplelines=yes</td>\n",
       "      <td>-0.081</td>\n",
       "    </tr>\n",
       "    <tr>\n",
       "      <th>34</th>\n",
       "      <td>streamingmovies=no</td>\n",
       "      <td>-0.085</td>\n",
       "    </tr>\n",
       "    <tr>\n",
       "      <th>1</th>\n",
       "      <td>contract=one_year</td>\n",
       "      <td>-0.086</td>\n",
       "    </tr>\n",
       "    <tr>\n",
       "      <th>4</th>\n",
       "      <td>dependents=yes</td>\n",
       "      <td>-0.092</td>\n",
       "    </tr>\n",
       "    <tr>\n",
       "      <th>9</th>\n",
       "      <td>gender=male</td>\n",
       "      <td>-0.095</td>\n",
       "    </tr>\n",
       "    <tr>\n",
       "      <th>37</th>\n",
       "      <td>streamingtv=no</td>\n",
       "      <td>-0.099</td>\n",
       "    </tr>\n",
       "    <tr>\n",
       "      <th>7</th>\n",
       "      <td>deviceprotection=yes</td>\n",
       "      <td>-0.106</td>\n",
       "    </tr>\n",
       "    <tr>\n",
       "      <th>38</th>\n",
       "      <td>streamingtv=no_internet_service</td>\n",
       "      <td>-0.116</td>\n",
       "    </tr>\n",
       "    <tr>\n",
       "      <th>41</th>\n",
       "      <td>techsupport=no_internet_service</td>\n",
       "      <td>-0.116</td>\n",
       "    </tr>\n",
       "    <tr>\n",
       "      <th>21</th>\n",
       "      <td>onlinesecurity=no_internet_service</td>\n",
       "      <td>-0.116</td>\n",
       "    </tr>\n",
       "    <tr>\n",
       "      <th>6</th>\n",
       "      <td>deviceprotection=no_internet_service</td>\n",
       "      <td>-0.116</td>\n",
       "    </tr>\n",
       "    <tr>\n",
       "      <th>18</th>\n",
       "      <td>onlinebackup=no_internet_service</td>\n",
       "      <td>-0.116</td>\n",
       "    </tr>\n",
       "    <tr>\n",
       "      <th>35</th>\n",
       "      <td>streamingmovies=no_internet_service</td>\n",
       "      <td>-0.116</td>\n",
       "    </tr>\n",
       "    <tr>\n",
       "      <th>12</th>\n",
       "      <td>internetservice=no</td>\n",
       "      <td>-0.116</td>\n",
       "    </tr>\n",
       "    <tr>\n",
       "      <th>30</th>\n",
       "      <td>paymentmethod=mailed_check</td>\n",
       "      <td>-0.134</td>\n",
       "    </tr>\n",
       "    <tr>\n",
       "      <th>28</th>\n",
       "      <td>paymentmethod=credit_card_(automatic)</td>\n",
       "      <td>-0.136</td>\n",
       "    </tr>\n",
       "    <tr>\n",
       "      <th>19</th>\n",
       "      <td>onlinebackup=yes</td>\n",
       "      <td>-0.142</td>\n",
       "    </tr>\n",
       "    <tr>\n",
       "      <th>14</th>\n",
       "      <td>multiplelines=no</td>\n",
       "      <td>-0.168</td>\n",
       "    </tr>\n",
       "    <tr>\n",
       "      <th>42</th>\n",
       "      <td>techsupport=yes</td>\n",
       "      <td>-0.184</td>\n",
       "    </tr>\n",
       "    <tr>\n",
       "      <th>23</th>\n",
       "      <td>paperlessbilling=no</td>\n",
       "      <td>-0.213</td>\n",
       "    </tr>\n",
       "    <tr>\n",
       "      <th>32</th>\n",
       "      <td>phoneservice=yes</td>\n",
       "      <td>-0.249</td>\n",
       "    </tr>\n",
       "    <tr>\n",
       "      <th>22</th>\n",
       "      <td>onlinesecurity=yes</td>\n",
       "      <td>-0.264</td>\n",
       "    </tr>\n",
       "    <tr>\n",
       "      <th>10</th>\n",
       "      <td>internetservice=dsl</td>\n",
       "      <td>-0.323</td>\n",
       "    </tr>\n",
       "    <tr>\n",
       "      <th>2</th>\n",
       "      <td>contract=two_year</td>\n",
       "      <td>-0.599</td>\n",
       "    </tr>\n",
       "  </tbody>\n",
       "</table>\n",
       "</div>"
      ],
      "text/plain": [
       "                                   FEATURES  COEFFICIENTS\n",
       "0                   contract=month-to-month         0.563\n",
       "11              internetservice=fiber_optic         0.317\n",
       "33                            seniorcitizen         0.297\n",
       "20                        onlinesecurity=no         0.258\n",
       "40                           techsupport=no         0.178\n",
       "29           paymentmethod=electronic_check         0.175\n",
       "17                          onlinebackup=no         0.136\n",
       "15           multiplelines=no_phone_service         0.127\n",
       "31                          phoneservice=no         0.127\n",
       "5                       deviceprotection=no         0.100\n",
       "39                          streamingtv=yes         0.093\n",
       "24                     paperlessbilling=yes         0.091\n",
       "36                      streamingmovies=yes         0.079\n",
       "13                           monthlycharges         0.001\n",
       "44                             totalcharges         0.000\n",
       "27  paymentmethod=bank_transfer_(automatic)        -0.027\n",
       "8                             gender=female        -0.027\n",
       "3                             dependents=no        -0.030\n",
       "25                               partner=no        -0.048\n",
       "43                                   tenure        -0.069\n",
       "26                              partner=yes        -0.074\n",
       "16                        multiplelines=yes        -0.081\n",
       "34                       streamingmovies=no        -0.085\n",
       "1                         contract=one_year        -0.086\n",
       "4                            dependents=yes        -0.092\n",
       "9                               gender=male        -0.095\n",
       "37                           streamingtv=no        -0.099\n",
       "7                      deviceprotection=yes        -0.106\n",
       "38          streamingtv=no_internet_service        -0.116\n",
       "41          techsupport=no_internet_service        -0.116\n",
       "21       onlinesecurity=no_internet_service        -0.116\n",
       "6      deviceprotection=no_internet_service        -0.116\n",
       "18         onlinebackup=no_internet_service        -0.116\n",
       "35      streamingmovies=no_internet_service        -0.116\n",
       "12                       internetservice=no        -0.116\n",
       "30               paymentmethod=mailed_check        -0.134\n",
       "28    paymentmethod=credit_card_(automatic)        -0.136\n",
       "19                         onlinebackup=yes        -0.142\n",
       "14                         multiplelines=no        -0.168\n",
       "42                          techsupport=yes        -0.184\n",
       "23                      paperlessbilling=no        -0.213\n",
       "32                         phoneservice=yes        -0.249\n",
       "22                       onlinesecurity=yes        -0.264\n",
       "10                      internetservice=dsl        -0.323\n",
       "2                         contract=two_year        -0.599"
      ]
     },
     "execution_count": 8,
     "metadata": {},
     "output_type": "execute_result"
    }
   ],
   "source": [
    "df_mc = pd.DataFrame({'FEATURES' : dv.get_feature_names_out(), 'COEFFICIENTS' : clf_log.coef_[0].round(3)})\n",
    "df_mc.sort_values(by='COEFFICIENTS', ascending=False)"
   ]
  },
  {
   "attachments": {},
   "cell_type": "markdown",
   "metadata": {},
   "source": [
    "Evaluation Metrics"
   ]
  },
  {
   "cell_type": "code",
   "execution_count": 9,
   "metadata": {},
   "outputs": [
    {
     "data": {
      "text/html": [
       "<div>\n",
       "<style scoped>\n",
       "    .dataframe tbody tr th:only-of-type {\n",
       "        vertical-align: middle;\n",
       "    }\n",
       "\n",
       "    .dataframe tbody tr th {\n",
       "        vertical-align: top;\n",
       "    }\n",
       "\n",
       "    .dataframe thead th {\n",
       "        text-align: right;\n",
       "    }\n",
       "</style>\n",
       "<table border=\"1\" class=\"dataframe\">\n",
       "  <thead>\n",
       "    <tr style=\"text-align: right;\">\n",
       "      <th></th>\n",
       "      <th>CUTOFF</th>\n",
       "      <th>SCORE</th>\n",
       "    </tr>\n",
       "  </thead>\n",
       "  <tbody>\n",
       "    <tr>\n",
       "      <th>0</th>\n",
       "      <td>0.0</td>\n",
       "      <td>0.261</td>\n",
       "    </tr>\n",
       "    <tr>\n",
       "      <th>1</th>\n",
       "      <td>0.1</td>\n",
       "      <td>0.595</td>\n",
       "    </tr>\n",
       "    <tr>\n",
       "      <th>2</th>\n",
       "      <td>0.2</td>\n",
       "      <td>0.690</td>\n",
       "    </tr>\n",
       "    <tr>\n",
       "      <th>3</th>\n",
       "      <td>0.3</td>\n",
       "      <td>0.755</td>\n",
       "    </tr>\n",
       "    <tr>\n",
       "      <th>4</th>\n",
       "      <td>0.4</td>\n",
       "      <td>0.782</td>\n",
       "    </tr>\n",
       "    <tr>\n",
       "      <th>5</th>\n",
       "      <td>0.5</td>\n",
       "      <td>0.802</td>\n",
       "    </tr>\n",
       "    <tr>\n",
       "      <th>6</th>\n",
       "      <td>0.6</td>\n",
       "      <td>0.790</td>\n",
       "    </tr>\n",
       "    <tr>\n",
       "      <th>7</th>\n",
       "      <td>0.7</td>\n",
       "      <td>0.774</td>\n",
       "    </tr>\n",
       "    <tr>\n",
       "      <th>8</th>\n",
       "      <td>0.8</td>\n",
       "      <td>0.742</td>\n",
       "    </tr>\n",
       "    <tr>\n",
       "      <th>9</th>\n",
       "      <td>0.9</td>\n",
       "      <td>0.739</td>\n",
       "    </tr>\n",
       "    <tr>\n",
       "      <th>10</th>\n",
       "      <td>1.0</td>\n",
       "      <td>0.739</td>\n",
       "    </tr>\n",
       "  </tbody>\n",
       "</table>\n",
       "</div>"
      ],
      "text/plain": [
       "    CUTOFF  SCORE\n",
       "0      0.0  0.261\n",
       "1      0.1  0.595\n",
       "2      0.2  0.690\n",
       "3      0.3  0.755\n",
       "4      0.4  0.782\n",
       "5      0.5  0.802\n",
       "6      0.6  0.790\n",
       "7      0.7  0.774\n",
       "8      0.8  0.742\n",
       "9      0.9  0.739\n",
       "10     1.0  0.739"
      ]
     },
     "execution_count": 9,
     "metadata": {},
     "output_type": "execute_result"
    }
   ],
   "source": [
    "from sklearn.metrics import accuracy_score\n",
    "\n",
    "df_acc = {'CUTOFF':[], 'SCORE':[]}\n",
    "cutoff_list = np.linspace(0,1,11)\n",
    "y_prob = clf_log.predict_proba(X_val)[:,1]\n",
    "\n",
    "for cutoff in cutoff_list:\n",
    "    y_pred = [1*(x >= cutoff) for x in y_prob]\n",
    "    score = accuracy_score(y_val, y_pred)\n",
    "\n",
    "    df_acc['CUTOFF'].append(cutoff)\n",
    "    df_acc['SCORE'].append(score.round(3))\n",
    "    \n",
    "df_acc = pd.DataFrame(df_acc)\n",
    "df_acc"
   ]
  },
  {
   "cell_type": "code",
   "execution_count": 10,
   "metadata": {},
   "outputs": [
    {
     "data": {
      "image/png": "[encoded data removed]",
      "text/plain": [
       "<Figure size 400x300 with 1 Axes>"
      ]
     },
     "metadata": {},
     "output_type": "display_data"
    }
   ],
   "source": [
    "plt.figure(figsize=(4,3))\n",
    "sns.lineplot(data=df_acc,\n",
    "             x='CUTOFF',\n",
    "             y='SCORE')\n",
    "plt.grid(True)"
   ]
  },
  {
   "attachments": {},
   "cell_type": "markdown",
   "metadata": {},
   "source": [
    "Dummy Model Metrics"
   ]
  },
  {
   "cell_type": "code",
   "execution_count": 11,
   "metadata": {},
   "outputs": [
    {
     "name": "stdout",
     "output_type": "stream",
     "text": [
      "Accuracy of the dummy Model : 0.739\n"
     ]
    }
   ],
   "source": [
    "y_dummy = [1*False for x in y_val]\n",
    "print('Accuracy of the dummy Model : {:.3f}'.format(accuracy_score(y_dummy, y_val)))"
   ]
  },
  {
   "attachments": {},
   "cell_type": "markdown",
   "metadata": {},
   "source": [
    "Confusion Matrix"
   ]
  },
  {
   "cell_type": "code",
   "execution_count": 12,
   "metadata": {},
   "outputs": [
    {
     "data": {
      "text/plain": [
       "<Axes: >"
      ]
     },
     "execution_count": 12,
     "metadata": {},
     "output_type": "execute_result"
    },
    {
     "data": {
      "image/png": "[encoded data removed]",
      "text/plain": [
       "<Figure size 150x150 with 1 Axes>"
      ]
     },
     "metadata": {},
     "output_type": "display_data"
    }
   ],
   "source": [
    "from sklearn.metrics import confusion_matrix\n",
    "y_prob = clf_log.predict_proba(X_val)[:,-1]\n",
    "threshold = 0.5\n",
    "y_pred = [ 1*(x >= threshold) for x in y_prob]\n",
    "cm_model = confusion_matrix(y_pred, y_val).T\n",
    "plt.figure(figsize=(1.5,1.5))\n",
    "sns.heatmap(data= cm_model , annot=True, fmt=\".0f\", linewidth=.5, cmap='bwr',cbar=False,)\n"
   ]
  },
  {
   "cell_type": "code",
   "execution_count": 13,
   "metadata": {},
   "outputs": [
    {
     "data": {
      "text/plain": [
       "<Axes: >"
      ]
     },
     "execution_count": 13,
     "metadata": {},
     "output_type": "execute_result"
    },
    {
     "data": {
      "image/png": "[encoded data removed]",
      "text/plain": [
       "<Figure size 150x150 with 1 Axes>"
      ]
     },
     "metadata": {},
     "output_type": "display_data"
    }
   ],
   "source": [
    "plt.figure(figsize=(1.5,1.5))\n",
    "cm_dummy = confusion_matrix([False for x in y_val], y_val).T\n",
    "sns.heatmap(data= cm_dummy , annot=True, fmt=\".0f\", linewidth=.5, cmap='bwr',cbar=False,)"
   ]
  },
  {
   "attachments": {},
   "cell_type": "markdown",
   "metadata": {},
   "source": [
    "ROC"
   ]
  },
  {
   "cell_type": "code",
   "execution_count": 14,
   "metadata": {},
   "outputs": [],
   "source": [
    "y_prob = clf_log.predict_proba(X_val)[:,1]\n",
    "y_dummpy = [0 for x in clf_log.predict_proba(X_val)[:,1]]"
   ]
  },
  {
   "cell_type": "code",
   "execution_count": 15,
   "metadata": {},
   "outputs": [],
   "source": [
    "threshold_list = np.linspace(0,1,101)\n",
    "\n",
    "df_metrics = {'THRESHOLD' : [],\n",
    "              'TP' :[],\n",
    "              'FP' :[],\n",
    "              'TN' :[],\n",
    "              'FN' :[],\n",
    "              'TPR' :[],\n",
    "              'FPR' :[],\n",
    "              }\n",
    "\n",
    "for threshold in threshold_list:\n",
    "\n",
    "    tp = ((y_prob >= threshold) & (y_val == 1)).sum()\n",
    "    fp = ((y_prob >= threshold) & (y_val == 0)).sum()\n",
    "    tn = ((y_prob <  threshold) & (y_val == 0)).sum()\n",
    "    fn = ((y_prob <  threshold) & (y_val == 1)).sum()\n",
    "    tpr = tp / (tp + fn)\n",
    "    fpr = fp / (fp + tn)\n",
    "\n",
    "    df_metrics['THRESHOLD'].append(threshold)\n",
    "    df_metrics['TP'].append(tp)\n",
    "    df_metrics['FP'].append(fp)\n",
    "    df_metrics['TN'].append(tn)\n",
    "    df_metrics['FN'].append(fn)\n",
    "    df_metrics['TPR'].append(tpr)\n",
    "    df_metrics['FPR'].append(fpr)\n",
    "\n",
    "df_metrics = pd.DataFrame(df_metrics)[::10]"
   ]
  },
  {
   "cell_type": "code",
   "execution_count": 16,
   "metadata": {},
   "outputs": [
    {
     "data": {
      "image/png": "[encoded data removed]",
      "text/plain": [
       "<Figure size 400x300 with 1 Axes>"
      ]
     },
     "metadata": {},
     "output_type": "display_data"
    }
   ],
   "source": [
    "plt.figure(figsize=(4,3))\n",
    "sns.lineplot(data=df_metrics, x='THRESHOLD', y='TPR',label='TPR')\n",
    "sns.lineplot(data=df_metrics, x='THRESHOLD', y='FPR',label='FPR')\n",
    "plt.legend(); plt.grid(True)"
   ]
  },
  {
   "cell_type": "code",
   "execution_count": 17,
   "metadata": {},
   "outputs": [
    {
     "data": {
      "image/png": "[encoded data removed]",
      "text/plain": [
       "<Figure size 300x300 with 1 Axes>"
      ]
     },
     "metadata": {},
     "output_type": "display_data"
    }
   ],
   "source": [
    "plt.figure(figsize=(3,3))\n",
    "sns.lineplot(data=df_metrics, x='FPR', y='TPR')\n",
    "sns.lineplot(x=[0,1],y=[0,1])\n",
    "plt.grid(True); plt.tight_layout()"
   ]
  },
  {
   "attachments": {},
   "cell_type": "markdown",
   "metadata": {},
   "source": [
    "AUC"
   ]
  },
  {
   "cell_type": "code",
   "execution_count": 18,
   "metadata": {},
   "outputs": [
    {
     "name": "stdout",
     "output_type": "stream",
     "text": [
      "AUC Score : 0.829\n"
     ]
    }
   ],
   "source": [
    "from sklearn.metrics import auc\n",
    "auc_score = auc(df_metrics['FPR'], df_metrics['TPR']).round(3)\n",
    "print(f\"AUC Score : {auc_score}\")"
   ]
  },
  {
   "attachments": {},
   "cell_type": "markdown",
   "metadata": {},
   "source": [
    "K Fold cross validation"
   ]
  },
  {
   "cell_type": "code",
   "execution_count": 19,
   "metadata": {},
   "outputs": [],
   "source": [
    "def train(df, y, c=1.0):\n",
    "      X = df[categorical_features + numerical_features].to_dict(orient='records')\n",
    "      encoder = DictVectorizer(sparse=False)\n",
    "      dv = encoder.fit(X)\n",
    "      X_en = dv.transform(X)\n",
    "\n",
    "      model = LogisticRegression(solver='liblinear', C=c)\n",
    "      model = model.fit(X_en, y)\n",
    "      return dv, model\n",
    "\n",
    "def predict(df, dv, model):\n",
    "      X = df[categorical_features + numerical_features].to_dict(orient='records')\n",
    "      X_en = dv.transform(X)\n",
    "\n",
    "      y_prob = model.predict_proba(X_en)[:,1]\n",
    "      return y_prob"
   ]
  },
  {
   "cell_type": "code",
   "execution_count": 20,
   "metadata": {},
   "outputs": [
    {
     "name": "stdout",
     "output_type": "stream",
     "text": [
      "AUC score = 0.842 ± 0.01227\n"
     ]
    }
   ],
   "source": [
    "auc_scores = []\n",
    "\n",
    "from sklearn.model_selection import KFold\n",
    "from sklearn.metrics import roc_auc_score\n",
    "kfold = KFold(n_splits=10,\n",
    "              shuffle=True,\n",
    "              random_state=1)\n",
    "\n",
    "for train_idx, val_idx in kfold.split(df_trainfull):\n",
    "\n",
    "      df_train = df_trainfull.iloc[train_idx]\n",
    "      df_val = df_trainfull.iloc[val_idx]\n",
    "\n",
    "      y_train = df_train.churn.values\n",
    "      y_val = df_val.churn.values\n",
    "\n",
    "      dv, model = train(df_train, y_train)\n",
    "      y_prob = predict(df_val, dv, model)\n",
    "\n",
    "      auc = roc_auc_score(y_val, y_prob)\n",
    "      auc_scores.append(auc)\n",
    "\n",
    "print('AUC score = %0.3f ± %0.5f' % (np.mean(auc_scores), np.std(auc_scores)))"
   ]
  },
  {
   "attachments": {},
   "cell_type": "markdown",
   "metadata": {},
   "source": [
    "Paramter Tuning"
   ]
  },
  {
   "cell_type": "code",
   "execution_count": 21,
   "metadata": {},
   "outputs": [
    {
     "name": "stdout",
     "output_type": "stream",
     "text": [
      "        C  AUC_MEAN  AUC_STD  \\\n",
      "0   0.001     0.834  0.01644   \n",
      "1   0.010     0.836  0.01541   \n",
      "2   0.100     0.838  0.01482   \n",
      "3   0.500     0.838  0.01446   \n",
      "4   1.000     0.839  0.01419   \n",
      "5  10.000     0.839  0.01398   \n",
      "\n",
      "                                                 AUC  \n",
      "0  [0.8493392490816277, 0.8413366336633662, 0.859...  \n",
      "1  [0.8493392490816277, 0.8413366336633662, 0.859...  \n",
      "2  [0.8493392490816277, 0.8413366336633662, 0.859...  \n",
      "3  [0.8493392490816277, 0.8413366336633662, 0.859...  \n",
      "4  [0.8493392490816277, 0.8413366336633662, 0.859...  \n",
      "5  [0.8493392490816277, 0.8413366336633662, 0.859...  \n"
     ]
    }
   ],
   "source": [
    "parameters_dict = {'C': [0.001, 0.01, 0.1, 0.5, 1.0, 10],\n",
    "                   'AUC_MEAN' : [],\n",
    "                   'AUC_STD': [],\n",
    "                   'AUC' : [],\n",
    "                   }\n",
    "k_folds = 5\n",
    "kfold = KFold(n_splits=10,\n",
    "              shuffle=True,\n",
    "              random_state=1)\n",
    "\n",
    "for c in parameters_dict['C']:\n",
    "    for train_idx, val_idx in kfold.split(df_trainfull):\n",
    "\n",
    "      df_train = df_trainfull.iloc[train_idx]\n",
    "      df_val = df_trainfull.iloc[val_idx]\n",
    "\n",
    "      y_train = df_train.churn.values\n",
    "      y_val = df_val.churn.values\n",
    "\n",
    "      dv, model = train(df_train, y_train, c=c)\n",
    "      y_prob = predict(df_val, dv, model)\n",
    "\n",
    "      auc = roc_auc_score(y_val, y_prob).round(3)\n",
    "      auc_scores.append(auc)\n",
    "      auc_mean = np.mean(auc_scores).round(3)\n",
    "      auc_std = np.std(auc_scores).round(5)\n",
    "\n",
    "    parameters_dict['AUC'].append(auc_scores)\n",
    "    parameters_dict['AUC_MEAN'].append(auc_mean)\n",
    "    parameters_dict['AUC_STD'].append(auc_std)\n",
    "\n",
    "print( pd.DataFrame(parameters_dict))"
   ]
  },
  {
   "cell_type": "code",
   "execution_count": 22,
   "metadata": {},
   "outputs": [
    {
     "name": "stdout",
     "output_type": "stream",
     "text": [
      "AUC test set : 0.858\n"
     ]
    }
   ],
   "source": [
    "y_train = df_trainfull.churn.values\n",
    "y_test = df_test.churn.values\n",
    "\n",
    "dv, model = train(df_trainfull, y_train, c=0.5)\n",
    "y_prob = predict(df_test, dv =dv, model = model)\n",
    "\n",
    "auc = roc_auc_score(y_test, y_prob)\n",
    "print('AUC test set : {:.3f}'.format(auc))"
   ]
  },
  {
   "attachments": {},
   "cell_type": "markdown",
   "metadata": {},
   "source": [
    "Deployments"
   ]
  },
  {
   "cell_type": "code",
   "execution_count": 29,
   "metadata": {},
   "outputs": [
    {
     "data": {
      "text/plain": [
       "Index([3381], dtype='int64')"
      ]
     },
     "execution_count": 29,
     "metadata": {},
     "output_type": "execute_result"
    }
   ],
   "source": [
    "df_telco['customerid'][df_telco['customerid'] == '8879-zkjof'].index"
   ]
  },
  {
   "cell_type": "code",
   "execution_count": 68,
   "metadata": {},
   "outputs": [],
   "source": [
    "df_check = df_telco[3381:3382]\n",
    "out = df_check.to_json(orient='records')[1:-1].replace('},{', '} {')\n",
    "with open('../tests/payload.json', 'w') as f:\n",
    "    f.write(out)"
   ]
  },
  {
   "cell_type": "code",
   "execution_count": 77,
   "metadata": {},
   "outputs": [],
   "source": [
    "payload = {\n",
    "      \"Unnamed: 0\": 3381,\n",
    "      \"customerid\": \"8879-zkjof\",\n",
    "      \"gender\": \"female\",\n",
    "      \"seniorcitizen\": 0,\n",
    "      \"partner\": \"no\",\n",
    "      \"dependents\": \"no\",\n",
    "      \"tenure\": 41,\n",
    "      \"phoneservice\": \"yes\",\n",
    "      \"multiplelines\": \"no\",\n",
    "      \"internetservice\": \"dsl\",\n",
    "      \"onlinesecurity\": \"yes\",\n",
    "      \"onlinebackup\": \"no\",\n",
    "      \"deviceprotection\": \"yes\",\n",
    "      \"techsupport\": \"yes\",\n",
    "      \"streamingtv\": \"yes\",\n",
    "      \"streamingmovies\": \"yes\",\n",
    "      \"contract\": \"one_year\",\n",
    "      \"paperlessbilling\": \"yes\",\n",
    "      \"paymentmethod\": \"bank_transfer_(automatic)\",\n",
    "      \"monthlycharges\": 79.85,\n",
    "      \"totalcharges\": 3320.75,\n",
    "      \"churn\": 0\n",
    "}"
   ]
  },
  {
   "attachments": {},
   "cell_type": "markdown",
   "metadata": {},
   "source": [
    "Prediction "
   ]
  },
  {
   "cell_type": "code",
   "execution_count": 81,
   "metadata": {},
   "outputs": [
    {
     "name": "stdout",
     "output_type": "stream",
     "text": [
      "PROBABILITY : 0.062\n",
      "VERDICT     : False\n"
     ]
    }
   ],
   "source": [
    "result = predict(df = pd.DataFrame([payload]),\n",
    "                  dv = dv,\n",
    "                  model = model)\n",
    "\n",
    "print(\"PROBABILITY : {}\".format(result[0].round(3)))\n",
    "print(\"VERDICT     : {}\".format(result[0] >= 0.5))"
   ]
  },
  {
   "attachments": {},
   "cell_type": "markdown",
   "metadata": {},
   "source": [
    "Saving the model"
   ]
  },
  {
   "cell_type": "code",
   "execution_count": 61,
   "metadata": {},
   "outputs": [],
   "source": [
    "import pickle\n",
    "with open('../bin/churn-model.bin', 'wb') as f_out:\n",
    "    pickle.dump((dv, model), f_out)"
   ]
  }
 ],
 "metadata": {
  "kernelspec": {
   "display_name": "base",
   "language": "python",
   "name": "python3"
  },
  "language_info": {
   "codemirror_mode": {
    "name": "ipython",
    "version": 3
   },
   "file_extension": ".py",
   "mimetype": "text/x-python",
   "name": "python",
   "nbconvert_exporter": "python",
   "pygments_lexer": "ipython3",
   "version": "3.8.10"
  },
  "orig_nbformat": 4
 },
 "nbformat": 4,
 "nbformat_minor": 2
}
